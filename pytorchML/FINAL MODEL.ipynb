{
 "cells": [
  {
   "cell_type": "code",
   "execution_count": 19,
   "id": "2640119a-93d6-41d7-99df-8f53f0a76c21",
   "metadata": {},
   "outputs": [
    {
     "name": "stdout",
     "output_type": "stream",
     "text": [
      "Requirement already satisfied: matplotlib in c:\\users\\kim92\\appdata\\local\\programs\\python\\python312\\lib\\site-packages (3.9.3)\n",
      "Requirement already satisfied: contourpy>=1.0.1 in c:\\users\\kim92\\appdata\\local\\programs\\python\\python312\\lib\\site-packages (from matplotlib) (1.3.1)\n",
      "Requirement already satisfied: cycler>=0.10 in c:\\users\\kim92\\appdata\\local\\programs\\python\\python312\\lib\\site-packages (from matplotlib) (0.12.1)\n",
      "Requirement already satisfied: fonttools>=4.22.0 in c:\\users\\kim92\\appdata\\local\\programs\\python\\python312\\lib\\site-packages (from matplotlib) (4.55.2)\n",
      "Requirement already satisfied: kiwisolver>=1.3.1 in c:\\users\\kim92\\appdata\\local\\programs\\python\\python312\\lib\\site-packages (from matplotlib) (1.4.7)\n",
      "Requirement already satisfied: numpy>=1.23 in c:\\users\\kim92\\appdata\\local\\programs\\python\\python312\\lib\\site-packages (from matplotlib) (2.2.0)\n",
      "Requirement already satisfied: packaging>=20.0 in c:\\users\\kim92\\appdata\\local\\programs\\python\\python312\\lib\\site-packages (from matplotlib) (24.1)\n",
      "Requirement already satisfied: pillow>=8 in c:\\users\\kim92\\appdata\\local\\programs\\python\\python312\\lib\\site-packages (from matplotlib) (10.4.0)\n",
      "Requirement already satisfied: pyparsing>=2.3.1 in c:\\users\\kim92\\appdata\\local\\programs\\python\\python312\\lib\\site-packages (from matplotlib) (3.2.0)\n",
      "Requirement already satisfied: python-dateutil>=2.7 in c:\\users\\kim92\\appdata\\local\\programs\\python\\python312\\lib\\site-packages (from matplotlib) (2.9.0.post0)\n",
      "Requirement already satisfied: six>=1.5 in c:\\users\\kim92\\appdata\\local\\programs\\python\\python312\\lib\\site-packages (from python-dateutil>=2.7->matplotlib) (1.16.0)\n"
     ]
    },
    {
     "name": "stderr",
     "output_type": "stream",
     "text": [
      "\n",
      "[notice] A new release of pip is available: 24.0 -> 24.3.1\n",
      "[notice] To update, run: python.exe -m pip install --upgrade pip\n"
     ]
    },
    {
     "name": "stdout",
     "output_type": "stream",
     "text": [
      "Requirement already satisfied: pandas in c:\\users\\kim92\\appdata\\local\\programs\\python\\python312\\lib\\site-packages (2.2.3)\n",
      "Requirement already satisfied: numpy>=1.26.0 in c:\\users\\kim92\\appdata\\local\\programs\\python\\python312\\lib\\site-packages (from pandas) (2.2.0)\n",
      "Requirement already satisfied: python-dateutil>=2.8.2 in c:\\users\\kim92\\appdata\\local\\programs\\python\\python312\\lib\\site-packages (from pandas) (2.9.0.post0)\n",
      "Requirement already satisfied: pytz>=2020.1 in c:\\users\\kim92\\appdata\\local\\programs\\python\\python312\\lib\\site-packages (from pandas) (2024.2)\n",
      "Requirement already satisfied: tzdata>=2022.7 in c:\\users\\kim92\\appdata\\local\\programs\\python\\python312\\lib\\site-packages (from pandas) (2024.1)\n",
      "Requirement already satisfied: six>=1.5 in c:\\users\\kim92\\appdata\\local\\programs\\python\\python312\\lib\\site-packages (from python-dateutil>=2.8.2->pandas) (1.16.0)\n"
     ]
    },
    {
     "name": "stderr",
     "output_type": "stream",
     "text": [
      "\n",
      "[notice] A new release of pip is available: 24.0 -> 24.3.1\n",
      "[notice] To update, run: python.exe -m pip install --upgrade pip\n"
     ]
    },
    {
     "name": "stdout",
     "output_type": "stream",
     "text": [
      "Collecting scikit-learn\n",
      "  Downloading scikit_learn-1.6.0-cp312-cp312-win_amd64.whl.metadata (15 kB)\n",
      "Requirement already satisfied: numpy>=1.19.5 in c:\\users\\kim92\\appdata\\local\\programs\\python\\python312\\lib\\site-packages (from scikit-learn) (2.2.0)\n",
      "Collecting scipy>=1.6.0 (from scikit-learn)\n",
      "  Downloading scipy-1.14.1-cp312-cp312-win_amd64.whl.metadata (60 kB)\n",
      "     ---------------------------------------- 0.0/60.8 kB ? eta -:--:--\n",
      "     ------ --------------------------------- 10.2/60.8 kB ? eta -:--:--\n",
      "     ------------------- ------------------ 30.7/60.8 kB 435.7 kB/s eta 0:00:01\n",
      "     -------------------------------------- 60.8/60.8 kB 647.9 kB/s eta 0:00:00\n",
      "Collecting joblib>=1.2.0 (from scikit-learn)\n",
      "  Downloading joblib-1.4.2-py3-none-any.whl.metadata (5.4 kB)\n",
      "Collecting threadpoolctl>=3.1.0 (from scikit-learn)\n",
      "  Downloading threadpoolctl-3.5.0-py3-none-any.whl.metadata (13 kB)\n",
      "Downloading scikit_learn-1.6.0-cp312-cp312-win_amd64.whl (11.1 MB)\n",
      "   ---------------------------------------- 0.0/11.1 MB ? eta -:--:--\n",
      "   ---------------------------------------- 0.1/11.1 MB 2.3 MB/s eta 0:00:05\n",
      "    --------------------------------------- 0.2/11.1 MB 2.1 MB/s eta 0:00:06\n",
      "   - -------------------------------------- 0.3/11.1 MB 2.5 MB/s eta 0:00:05\n",
      "   - -------------------------------------- 0.5/11.1 MB 3.2 MB/s eta 0:00:04\n",
      "   -- ------------------------------------- 0.8/11.1 MB 3.5 MB/s eta 0:00:03\n",
      "   ---- ----------------------------------- 1.1/11.1 MB 4.2 MB/s eta 0:00:03\n",
      "   ----- ---------------------------------- 1.6/11.1 MB 5.3 MB/s eta 0:00:02\n",
      "   --------- ------------------------------ 2.5/11.1 MB 7.1 MB/s eta 0:00:02\n",
      "   ----------------- ---------------------- 4.9/11.1 MB 12.0 MB/s eta 0:00:01\n",
      "   ------------------------------ --------- 8.3/11.1 MB 18.4 MB/s eta 0:00:01\n",
      "   ---------------------------------------  11.1/11.1 MB 40.9 MB/s eta 0:00:01\n",
      "   ---------------------------------------- 11.1/11.1 MB 40.9 MB/s eta 0:00:00\n",
      "Downloading joblib-1.4.2-py3-none-any.whl (301 kB)\n",
      "   ---------------------------------------- 0.0/301.8 kB ? eta -:--:--\n",
      "   ---------------------------------------- 301.8/301.8 kB ? eta 0:00:00\n",
      "Downloading scipy-1.14.1-cp312-cp312-win_amd64.whl (44.5 MB)\n",
      "   ---------------------------------------- 0.0/44.5 MB ? eta -:--:--\n",
      "   - -------------------------------------- 1.3/44.5 MB 84.0 MB/s eta 0:00:01\n",
      "   --- ------------------------------------ 4.1/44.5 MB 43.7 MB/s eta 0:00:01\n",
      "   ------ --------------------------------- 7.4/44.5 MB 52.8 MB/s eta 0:00:01\n",
      "   ---------- ----------------------------- 11.2/44.5 MB 54.7 MB/s eta 0:00:01\n",
      "   -------------- ------------------------- 16.3/44.5 MB 110.0 MB/s eta 0:00:01\n",
      "   ----------------- ---------------------- 19.6/44.5 MB 81.8 MB/s eta 0:00:01\n",
      "   ----------------- ---------------------- 19.6/44.5 MB 81.8 MB/s eta 0:00:01\n",
      "   ------------------------ --------------- 27.1/44.5 MB 81.8 MB/s eta 0:00:01\n",
      "   ----------------------------- ---------- 33.0/44.5 MB 162.4 MB/s eta 0:00:01\n",
      "   ----------------------------- ---------- 33.0/44.5 MB 162.4 MB/s eta 0:00:01\n",
      "   ---------------------------------- ----- 37.9/44.5 MB 81.8 MB/s eta 0:00:01\n",
      "   -------------------------------------- - 43.4/44.5 MB 131.2 MB/s eta 0:00:01\n",
      "   ---------------------------------------  44.5/44.5 MB 108.8 MB/s eta 0:00:01\n",
      "   ---------------------------------------- 44.5/44.5 MB 72.5 MB/s eta 0:00:00\n",
      "Downloading threadpoolctl-3.5.0-py3-none-any.whl (18 kB)\n",
      "Installing collected packages: threadpoolctl, scipy, joblib, scikit-learn\n",
      "Successfully installed joblib-1.4.2 scikit-learn-1.6.0 scipy-1.14.1 threadpoolctl-3.5.0\n"
     ]
    },
    {
     "name": "stderr",
     "output_type": "stream",
     "text": [
      "\n",
      "[notice] A new release of pip is available: 24.0 -> 24.3.1\n",
      "[notice] To update, run: python.exe -m pip install --upgrade pip\n"
     ]
    }
   ],
   "source": [
    "!pip install matplotlib\n",
    "!pip install pandas\n",
    "!pip install scikit-learn"
   ]
  },
  {
   "cell_type": "code",
   "execution_count": 335,
   "id": "09e4415c-feae-41d2-bd38-89a17211c42e",
   "metadata": {},
   "outputs": [],
   "source": [
    "import torch\n",
    "import torch.nn as nn\n",
    "import torch.nn.functional as F\n",
    "import pandas as pd\n",
    "import matplotlib.pyplot as plt\n",
    "%matplotlib inline"
   ]
  },
  {
   "cell_type": "code",
   "execution_count": 357,
   "id": "23b0c7dc-6456-4a48-8e7e-d6b5a4db0c07",
   "metadata": {},
   "outputs": [],
   "source": [
    "class Model(nn.Module):\n",
    "    def __init__(self, in_features=4, h1=100, h2=120, out_features=2):\n",
    "        super().__init__()\n",
    "        self.fc1 = nn.Linear(in_features, h1)\n",
    "        self.fc2 = nn.Linear(h1, h2)\n",
    "        self.out = nn.Linear(h2, out_features)\n",
    "\n",
    "    def forward(self, x):\n",
    "        x = F.relu(self.fc1(x))\n",
    "        x = F.relu(self.fc2(x))\n",
    "        x = self.out(x)\n",
    "\n",
    "        return x"
   ]
  },
  {
   "cell_type": "code",
   "execution_count": 418,
   "id": "283e7228-5d75-44cf-8015-52fcb301c20e",
   "metadata": {},
   "outputs": [],
   "source": [
    "SEED = 40\n",
    "torch.manual_seed(SEED)\n",
    "model = Model()\n",
    "\n",
    "my_df = pd.read_csv(\"./export.csv\")"
   ]
  },
  {
   "cell_type": "code",
   "execution_count": 419,
   "id": "6075d401-b5ec-4f0f-baa4-bf30a590ce28",
   "metadata": {},
   "outputs": [
    {
     "data": {
      "text/html": [
       "<div>\n",
       "<style scoped>\n",
       "    .dataframe tbody tr th:only-of-type {\n",
       "        vertical-align: middle;\n",
       "    }\n",
       "\n",
       "    .dataframe tbody tr th {\n",
       "        vertical-align: top;\n",
       "    }\n",
       "\n",
       "    .dataframe thead th {\n",
       "        text-align: right;\n",
       "    }\n",
       "</style>\n",
       "<table border=\"1\" class=\"dataframe\">\n",
       "  <thead>\n",
       "    <tr style=\"text-align: right;\">\n",
       "      <th></th>\n",
       "      <th>file_name</th>\n",
       "      <th>avg_energy</th>\n",
       "      <th>zero_cross_range</th>\n",
       "      <th>bandwidth</th>\n",
       "      <th>spectral_centroid</th>\n",
       "      <th>label</th>\n",
       "    </tr>\n",
       "  </thead>\n",
       "  <tbody>\n",
       "    <tr>\n",
       "      <th>0</th>\n",
       "      <td>Audio_Files/Music\\mu1.wav</td>\n",
       "      <td>0.013581</td>\n",
       "      <td>0.245165</td>\n",
       "      <td>7995.117188</td>\n",
       "      <td>3442.537003</td>\n",
       "      <td>True</td>\n",
       "    </tr>\n",
       "    <tr>\n",
       "      <th>1</th>\n",
       "      <td>Audio_Files/Music\\mu10.wav</td>\n",
       "      <td>0.006129</td>\n",
       "      <td>0.124285</td>\n",
       "      <td>7995.117188</td>\n",
       "      <td>1599.206709</td>\n",
       "      <td>True</td>\n",
       "    </tr>\n",
       "    <tr>\n",
       "      <th>2</th>\n",
       "      <td>Audio_Files/Music\\mu11.wav</td>\n",
       "      <td>0.006399</td>\n",
       "      <td>0.061674</td>\n",
       "      <td>7995.117188</td>\n",
       "      <td>1003.077498</td>\n",
       "      <td>True</td>\n",
       "    </tr>\n",
       "    <tr>\n",
       "      <th>3</th>\n",
       "      <td>Audio_Files/Music\\mu12.wav</td>\n",
       "      <td>0.010394</td>\n",
       "      <td>0.235691</td>\n",
       "      <td>7995.117188</td>\n",
       "      <td>2206.099911</td>\n",
       "      <td>True</td>\n",
       "    </tr>\n",
       "    <tr>\n",
       "      <th>4</th>\n",
       "      <td>Audio_Files/Music\\mu13.wav</td>\n",
       "      <td>0.016870</td>\n",
       "      <td>0.068174</td>\n",
       "      <td>7995.117188</td>\n",
       "      <td>1352.087533</td>\n",
       "      <td>True</td>\n",
       "    </tr>\n",
       "  </tbody>\n",
       "</table>\n",
       "</div>"
      ],
      "text/plain": [
       "                    file_name  avg_energy  zero_cross_range    bandwidth  \\\n",
       "0   Audio_Files/Music\\mu1.wav    0.013581          0.245165  7995.117188   \n",
       "1  Audio_Files/Music\\mu10.wav    0.006129          0.124285  7995.117188   \n",
       "2  Audio_Files/Music\\mu11.wav    0.006399          0.061674  7995.117188   \n",
       "3  Audio_Files/Music\\mu12.wav    0.010394          0.235691  7995.117188   \n",
       "4  Audio_Files/Music\\mu13.wav    0.016870          0.068174  7995.117188   \n",
       "\n",
       "   spectral_centroid  label  \n",
       "0        3442.537003   True  \n",
       "1        1599.206709   True  \n",
       "2        1003.077498   True  \n",
       "3        2206.099911   True  \n",
       "4        1352.087533   True  "
      ]
     },
     "execution_count": 419,
     "metadata": {},
     "output_type": "execute_result"
    }
   ],
   "source": [
    "my_df.head()"
   ]
  },
  {
   "cell_type": "code",
   "execution_count": 420,
   "id": "00196e0c-0789-4489-9fda-9d42171e1895",
   "metadata": {},
   "outputs": [
    {
     "name": "stderr",
     "output_type": "stream",
     "text": [
      "C:\\Users\\kim92\\AppData\\Local\\Temp\\ipykernel_22080\\4214093433.py:2: FutureWarning: Downcasting behavior in `replace` is deprecated and will be removed in a future version. To retain the old behavior, explicitly call `result.infer_objects(copy=False)`. To opt-in to the future behavior, set `pd.set_option('future.no_silent_downcasting', True)`\n",
      "  my_df[\"label\"] = my_df[\"label\"].replace(False, 0)\n"
     ]
    }
   ],
   "source": [
    "my_df[\"label\"] = my_df[\"label\"].replace(True, 1)\n",
    "my_df[\"label\"] = my_df[\"label\"].replace(False, 0)\n"
   ]
  },
  {
   "cell_type": "code",
   "execution_count": 421,
   "id": "abcc08a0-053c-4176-a86e-82a571dad696",
   "metadata": {},
   "outputs": [
    {
     "data": {
      "text/html": [
       "<div>\n",
       "<style scoped>\n",
       "    .dataframe tbody tr th:only-of-type {\n",
       "        vertical-align: middle;\n",
       "    }\n",
       "\n",
       "    .dataframe tbody tr th {\n",
       "        vertical-align: top;\n",
       "    }\n",
       "\n",
       "    .dataframe thead th {\n",
       "        text-align: right;\n",
       "    }\n",
       "</style>\n",
       "<table border=\"1\" class=\"dataframe\">\n",
       "  <thead>\n",
       "    <tr style=\"text-align: right;\">\n",
       "      <th></th>\n",
       "      <th>file_name</th>\n",
       "      <th>avg_energy</th>\n",
       "      <th>zero_cross_range</th>\n",
       "      <th>bandwidth</th>\n",
       "      <th>spectral_centroid</th>\n",
       "      <th>label</th>\n",
       "    </tr>\n",
       "  </thead>\n",
       "  <tbody>\n",
       "    <tr>\n",
       "      <th>0</th>\n",
       "      <td>Audio_Files/Music\\mu1.wav</td>\n",
       "      <td>0.013581</td>\n",
       "      <td>0.245165</td>\n",
       "      <td>7995.117188</td>\n",
       "      <td>3442.537003</td>\n",
       "      <td>1</td>\n",
       "    </tr>\n",
       "    <tr>\n",
       "      <th>1</th>\n",
       "      <td>Audio_Files/Music\\mu10.wav</td>\n",
       "      <td>0.006129</td>\n",
       "      <td>0.124285</td>\n",
       "      <td>7995.117188</td>\n",
       "      <td>1599.206709</td>\n",
       "      <td>1</td>\n",
       "    </tr>\n",
       "    <tr>\n",
       "      <th>2</th>\n",
       "      <td>Audio_Files/Music\\mu11.wav</td>\n",
       "      <td>0.006399</td>\n",
       "      <td>0.061674</td>\n",
       "      <td>7995.117188</td>\n",
       "      <td>1003.077498</td>\n",
       "      <td>1</td>\n",
       "    </tr>\n",
       "    <tr>\n",
       "      <th>3</th>\n",
       "      <td>Audio_Files/Music\\mu12.wav</td>\n",
       "      <td>0.010394</td>\n",
       "      <td>0.235691</td>\n",
       "      <td>7995.117188</td>\n",
       "      <td>2206.099911</td>\n",
       "      <td>1</td>\n",
       "    </tr>\n",
       "    <tr>\n",
       "      <th>4</th>\n",
       "      <td>Audio_Files/Music\\mu13.wav</td>\n",
       "      <td>0.016870</td>\n",
       "      <td>0.068174</td>\n",
       "      <td>7995.117188</td>\n",
       "      <td>1352.087533</td>\n",
       "      <td>1</td>\n",
       "    </tr>\n",
       "  </tbody>\n",
       "</table>\n",
       "</div>"
      ],
      "text/plain": [
       "                    file_name  avg_energy  zero_cross_range    bandwidth  \\\n",
       "0   Audio_Files/Music\\mu1.wav    0.013581          0.245165  7995.117188   \n",
       "1  Audio_Files/Music\\mu10.wav    0.006129          0.124285  7995.117188   \n",
       "2  Audio_Files/Music\\mu11.wav    0.006399          0.061674  7995.117188   \n",
       "3  Audio_Files/Music\\mu12.wav    0.010394          0.235691  7995.117188   \n",
       "4  Audio_Files/Music\\mu13.wav    0.016870          0.068174  7995.117188   \n",
       "\n",
       "   spectral_centroid  label  \n",
       "0        3442.537003      1  \n",
       "1        1599.206709      1  \n",
       "2        1003.077498      1  \n",
       "3        2206.099911      1  \n",
       "4        1352.087533      1  "
      ]
     },
     "execution_count": 421,
     "metadata": {},
     "output_type": "execute_result"
    }
   ],
   "source": [
    "my_df.head()"
   ]
  },
  {
   "cell_type": "code",
   "execution_count": 422,
   "id": "2ceaa8e4-739f-42f2-8bb3-988debfbccb9",
   "metadata": {},
   "outputs": [],
   "source": [
    "X = my_df.drop([\"file_name\", \"label\"], axis=1)\n",
    "y = my_df[\"label\"]"
   ]
  },
  {
   "cell_type": "code",
   "execution_count": 423,
   "id": "7f66162e-b2e7-4327-b901-6318da3f5649",
   "metadata": {},
   "outputs": [],
   "source": [
    "X = X.values\n",
    "y = y.values"
   ]
  },
  {
   "cell_type": "code",
   "execution_count": 424,
   "id": "cb8c8c4c-79b3-419a-adcd-c0d6021d59e7",
   "metadata": {},
   "outputs": [],
   "source": [
    "from sklearn.model_selection import train_test_split"
   ]
  },
  {
   "cell_type": "code",
   "execution_count": 425,
   "id": "daae9107-674a-44f5-9894-254a6d19b0c6",
   "metadata": {},
   "outputs": [],
   "source": [
    "X_train, X_test, y_train, y_test = train_test_split(X, y, test_size=.2, random_state=SEED)"
   ]
  },
  {
   "cell_type": "code",
   "execution_count": 426,
   "id": "c3910c26-8eab-4c4e-9313-cb213b3f55ca",
   "metadata": {},
   "outputs": [],
   "source": [
    "X_train = torch.FloatTensor(X_train)\n",
    "X_test = torch.FloatTensor(X_test)\n",
    "\n",
    "y_train = torch.LongTensor(y_train)\n",
    "y_test = torch.LongTensor(y_test)"
   ]
  },
  {
   "cell_type": "code",
   "execution_count": 427,
   "id": "426a3a43-5dd3-4493-8cf6-d5b516af8e97",
   "metadata": {},
   "outputs": [],
   "source": [
    "# set criterion\n",
    "criterion = nn.CrossEntropyLoss()\n",
    "# optimizer\n",
    "optimizer = torch.optim.Adam(model.parameters(), lr=0.01)"
   ]
  },
  {
   "cell_type": "code",
   "execution_count": 428,
   "id": "3cd323b1-3617-4d58-8874-d2c3ebf25a62",
   "metadata": {},
   "outputs": [
    {
     "name": "stdout",
     "output_type": "stream",
     "text": [
      "epoch: 0 and loss: 42.46962356567383\n",
      "epoch: 10 and loss: 95.12449645996094\n",
      "epoch: 20 and loss: 7.4367194175720215\n",
      "epoch: 30 and loss: 2.840447187423706\n",
      "epoch: 40 and loss: 0.8938900828361511\n",
      "epoch: 50 and loss: 0.5978807806968689\n",
      "epoch: 60 and loss: 0.5251856446266174\n",
      "epoch: 70 and loss: 0.4708114564418793\n",
      "epoch: 80 and loss: 0.43863099813461304\n",
      "epoch: 90 and loss: 0.42495423555374146\n"
     ]
    }
   ],
   "source": [
    "# epochs - one run through all training data\n",
    "epochs = 100\n",
    "losses = []\n",
    "for i in range(epochs):\n",
    "    # go forward and get a prediction\n",
    "    y_pred = model.forward(X_train) # get results\n",
    "    # measure loss/error\n",
    "    loss = criterion(y_pred, y_train)\n",
    "\n",
    "    # keep track of losses\n",
    "    losses.append(loss.detach().numpy())\n",
    "\n",
    "    #print every 10 epochs\n",
    "    if i % 10 == 0:\n",
    "        print(f'epoch: {i} and loss: {loss}')\n",
    "\n",
    "    # back propagation - take error rate of forward and feed it back through the network to fine tune the weights\n",
    "    optimizer.zero_grad()\n",
    "    loss.backward()\n",
    "    optimizer.step()"
   ]
  },
  {
   "cell_type": "code",
   "execution_count": 429,
   "id": "c7f05cb0-168e-4eaa-bcf3-746f4180e13a",
   "metadata": {},
   "outputs": [
    {
     "data": {
      "text/plain": [
       "Text(0.5, 0, 'ecpoch')"
      ]
     },
     "execution_count": 429,
     "metadata": {},
     "output_type": "execute_result"
    },
    {
     "data": {
      "image/png": "[encoded data removed]",
      "text/plain": [
       "<Figure size 640x480 with 1 Axes>"
      ]
     },
     "metadata": {},
     "output_type": "display_data"
    }
   ],
   "source": [
    "plt.plot(range(epochs), losses)\n",
    "plt.ylabel(\"loss/error\")\n",
    "plt.xlabel(\"ecpoch\")"
   ]
  },
  {
   "cell_type": "code",
   "execution_count": 430,
   "id": "07ec3839-40f6-413c-9cad-8c963ea3a033",
   "metadata": {},
   "outputs": [],
   "source": [
    "with torch.no_grad():\n",
    "    y_eval = model.forward(X_test) # features from test set, y_eval is predictions\n",
    "    loss = criterion(y_eval, y_test)\n",
    "    "
   ]
  },
  {
   "cell_type": "code",
   "execution_count": 431,
   "id": "bf03e5f8-c5df-47fc-9296-d15806b60095",
   "metadata": {},
   "outputs": [
    {
     "data": {
      "text/plain": [
       "tensor(1.5621)"
      ]
     },
     "execution_count": 431,
     "metadata": {},
     "output_type": "execute_result"
    }
   ],
   "source": [
    "loss"
   ]
  },
  {
   "cell_type": "code",
   "execution_count": 432,
   "id": "7afc8ab2-ba21-483a-827a-918d92f0eeca",
   "metadata": {},
   "outputs": [
    {
     "name": "stdout",
     "output_type": "stream",
     "text": [
      "1.) tensor([43.6581, 39.9064])      0 \t 0\n",
      "2.) tensor([42.2627, 42.9876])      0 \t 1\n",
      "3.) tensor([45.3080, 38.8191])      0 \t 0\n",
      "4.) tensor([42.6873, 40.5636])      0 \t 0\n",
      "5.) tensor([45.5220, 38.6493])      1 \t 0\n",
      "6.) tensor([41.0262, 41.8431])      1 \t 1\n",
      "7.) tensor([43.0525, 40.2911])      1 \t 0\n",
      "8.) tensor([41.8880, 41.0795])      1 \t 0\n",
      "4\n"
     ]
    }
   ],
   "source": [
    "correct = 0\n",
    "with torch.no_grad():\n",
    "    for i, data in enumerate(X_test):\n",
    "        y_val = model.forward(data)\n",
    "\n",
    "        # type of speech/music\n",
    "        print(f\"{i+1}.) {str(y_val)}      {y_test[i]} \\t {y_val.argmax().item()}\")\n",
    "\n",
    "        if y_val.argmax().item() == y_test[i]:\n",
    "            correct += 1\n",
    "print(correct)"
   ]
  },
  {
   "cell_type": "code",
   "execution_count": 433,
   "id": "fc4b0ee8-85f2-4106-8471-c4cf28a41f3e",
   "metadata": {},
   "outputs": [],
   "source": [
    "torch.save(model.state_dict(), \"test_model.pt\")"
   ]
  },
  {
   "cell_type": "code",
   "execution_count": 434,
   "id": "f23721ed-fe14-46de-a816-87daef17d451",
   "metadata": {},
   "outputs": [
    {
     "name": "stderr",
     "output_type": "stream",
     "text": [
      "C:\\Users\\kim92\\AppData\\Local\\Temp\\ipykernel_22080\\1740990282.py:2: FutureWarning: You are using `torch.load` with `weights_only=False` (the current default value), which uses the default pickle module implicitly. It is possible to construct malicious pickle data which will execute arbitrary code during unpickling (See https://github.com/pytorch/pytorch/blob/main/SECURITY.md#untrusted-models for more details). In a future release, the default value for `weights_only` will be flipped to `True`. This limits the functions that could be executed during unpickling. Arbitrary objects will no longer be allowed to be loaded via this mode unless they are explicitly allowlisted by the user via `torch.serialization.add_safe_globals`. We recommend you start setting `weights_only=True` for any use case where you don't have full control of the loaded file. Please open an issue on GitHub for any issues related to this experimental feature.\n",
      "  new_model.load_state_dict(torch.load(\"test_model.pt\"))\n"
     ]
    },
    {
     "data": {
      "text/plain": [
       "<All keys matched successfully>"
      ]
     },
     "execution_count": 434,
     "metadata": {},
     "output_type": "execute_result"
    }
   ],
   "source": [
    "new_model = Model()\n",
    "new_model.load_state_dict(torch.load(\"test_model.pt\"))"
   ]
  },
  {
   "cell_type": "code",
   "execution_count": 435,
   "id": "c24a71b5-3249-44a1-87a0-779b45ec5adc",
   "metadata": {},
   "outputs": [
    {
     "data": {
      "text/plain": [
       "Model(\n",
       "  (fc1): Linear(in_features=4, out_features=100, bias=True)\n",
       "  (fc2): Linear(in_features=100, out_features=120, bias=True)\n",
       "  (out): Linear(in_features=120, out_features=2, bias=True)\n",
       ")"
      ]
     },
     "execution_count": 435,
     "metadata": {},
     "output_type": "execute_result"
    }
   ],
   "source": [
    "new_model.eval()"
   ]
  },
  {
   "cell_type": "code",
   "execution_count": 436,
   "id": "25eae221-1b0b-482f-a6bc-54b9a49e8d4b",
   "metadata": {},
   "outputs": [],
   "source": [
    "final_set = torch.tensor(my_df.drop([\"file_name\", \"label\"], axis=1).values).float()\n",
    "corr =  torch.LongTensor(my_df[\"label\"])"
   ]
  },
  {
   "cell_type": "code",
   "execution_count": 437,
   "id": "46541460-ec79-4c35-887f-06d37f9c0519",
   "metadata": {},
   "outputs": [
    {
     "name": "stdout",
     "output_type": "stream",
     "text": [
      "1.) tensor([35.2813, 34.6810])      1 \t 0\n",
      "2.) tensor([41.4416, 41.3970])      1 \t 0\n",
      "3.) tensor([45.5220, 38.6493])      1 \t 0\n",
      "4.) tensor([41.2506, 43.1198])      1 \t 1\n",
      "5.) tensor([43.0525, 40.2911])      1 \t 0\n",
      "6.) tensor([41.8880, 41.0795])      1 \t 0\n",
      "7.) tensor([41.4739, 41.3626])      1 \t 0\n",
      "8.) tensor([41.2058, 43.0628])      1 \t 1\n",
      "9.) tensor([41.8418, 43.0397])      1 \t 1\n",
      "10.) tensor([41.6060, 43.0776])      1 \t 1\n",
      "11.) tensor([42.6233, 42.8862])      1 \t 1\n",
      "12.) tensor([40.8693, 42.4267])      1 \t 1\n",
      "13.) tensor([42.2743, 42.9675])      1 \t 1\n",
      "14.) tensor([40.8477, 42.0345])      1 \t 1\n",
      "15.) tensor([40.7854, 42.1144])      1 \t 1\n",
      "16.) tensor([41.2718, 43.1220])      1 \t 1\n",
      "17.) tensor([41.0262, 41.8431])      1 \t 1\n",
      "18.) tensor([40.7500, 42.2008])      1 \t 1\n",
      "19.) tensor([42.5362, 42.7341])      1 \t 1\n",
      "20.) tensor([41.0162, 42.7044])      1 \t 1\n",
      "21.) tensor([42.5363, 42.9423])      0 \t 1\n",
      "22.) tensor([45.3490, 38.7913])      0 \t 0\n",
      "23.) tensor([42.2627, 42.9876])      0 \t 1\n",
      "24.) tensor([40.9231, 42.5157])      0 \t 1\n",
      "25.) tensor([45.3080, 38.8191])      0 \t 0\n",
      "26.) tensor([43.6581, 39.9064])      0 \t 0\n",
      "27.) tensor([42.3967, 40.7601])      0 \t 0\n",
      "28.) tensor([38.7558, 38.1770])      0 \t 0\n",
      "29.) tensor([42.0842, 41.9331])      0 \t 0\n",
      "30.) tensor([42.6873, 40.5636])      0 \t 0\n",
      "31.) tensor([41.2264, 40.6686])      0 \t 0\n",
      "32.) tensor([41.1493, 41.7419])      0 \t 1\n",
      "33.) tensor([46.7540, 39.5357])      0 \t 0\n",
      "34.) tensor([41.3473, 41.5295])      0 \t 1\n",
      "35.) tensor([48.2714, 40.8600])      0 \t 0\n",
      "36.) tensor([42.5598, 42.9382])      0 \t 1\n",
      "37.) tensor([46.5314, 39.3311])      0 \t 0\n",
      "38.) tensor([42.7762, 40.5034])      0 \t 0\n",
      "39.) tensor([48.4755, 41.0392])      0 \t 0\n",
      "40.) tensor([47.7078, 40.3716])      0 \t 0\n",
      "28\n"
     ]
    }
   ],
   "source": [
    "correct = 0\n",
    "with torch.no_grad():\n",
    "    for i, data in enumerate(final_set):\n",
    "        y_val = new_model.forward(data)\n",
    "\n",
    "        # type of speech/music\n",
    "        print(f\"{i+1}.) {str(y_val)}      {corr[i]} \\t {y_val.argmax().item()}\")\n",
    "\n",
    "        if y_val.argmax().item() == corr[i]:\n",
    "            correct += 1\n",
    "print(correct)"
   ]
  },
  {
   "cell_type": "code",
   "execution_count": null,
   "id": "67b4ea81-621d-45b0-b241-bd40b09b9d3f",
   "metadata": {},
   "outputs": [],
   "source": []
  },
  {
   "cell_type": "code",
   "execution_count": null,
   "id": "5a5a6d16-1339-4ccd-9db2-2a1d1680cbf7",
   "metadata": {},
   "outputs": [],
   "source": []
  },
  {
   "cell_type": "code",
   "execution_count": null,
   "id": "6c5de283-a832-4ea6-a71f-ea7c12f4adaa",
   "metadata": {},
   "outputs": [],
   "source": []
  },
  {
   "cell_type": "code",
   "execution_count": null,
   "id": "bcf6095f-615f-4ddd-bf23-f39dbe7c31b4",
   "metadata": {},
   "outputs": [],
   "source": []
  },
  {
   "cell_type": "code",
   "execution_count": null,
   "id": "58a97cd8-3b5e-46c9-a2ce-21093b83d738",
   "metadata": {},
   "outputs": [],
   "source": []
  },
  {
   "cell_type": "code",
   "execution_count": null,
   "id": "fb7288fb-25af-4b15-95d9-c732ea5fba9f",
   "metadata": {},
   "outputs": [],
   "source": []
  }
 ],
 "metadata": {
  "kernelspec": {
   "display_name": "Python 3 (ipykernel)",
   "language": "python",
   "name": "python3"
  },
  "language_info": {
   "codemirror_mode": {
    "name": "ipython",
    "version": 3
   },
   "file_extension": ".py",
   "mimetype": "text/x-python",
   "name": "python",
   "nbconvert_exporter": "python",
   "pygments_lexer": "ipython3",
   "version": "3.12.2"
  }
 },
 "nbformat": 4,
 "nbformat_minor": 5
}
