{
 "cells": [
  {
   "cell_type": "code",
   "execution_count": 30,
   "id": "11f99498-ce28-489e-bc17-0e3f0a9c7db8",
   "metadata": {
    "collapsed": true,
    "jupyter": {
     "outputs_hidden": true
    }
   },
   "outputs": [
    {
     "name": "stdout",
     "output_type": "stream",
     "text": [
      "Collecting torchmetrics\n",
      "  Downloading torchmetrics-1.6.0-py3-none-any.whl.metadata (20 kB)\n",
      "Requirement already satisfied: numpy>1.20.0 in c:\\users\\kim92\\appdata\\local\\programs\\python\\python312\\lib\\site-packages (from torchmetrics) (2.2.0)\n",
      "Requirement already satisfied: packaging>17.1 in c:\\users\\kim92\\appdata\\local\\programs\\python\\python312\\lib\\site-packages (from torchmetrics) (24.1)\n",
      "Requirement already satisfied: torch>=2.0.0 in c:\\users\\kim92\\appdata\\local\\programs\\python\\python312\\lib\\site-packages (from torchmetrics) (2.5.1)\n",
      "Collecting lightning-utilities>=0.8.0 (from torchmetrics)\n",
      "  Downloading lightning_utilities-0.11.9-py3-none-any.whl.metadata (5.2 kB)\n",
      "Requirement already satisfied: setuptools in c:\\users\\kim92\\appdata\\local\\programs\\python\\python312\\lib\\site-packages (from lightning-utilities>=0.8.0->torchmetrics) (75.1.0)\n",
      "Requirement already satisfied: typing-extensions in c:\\users\\kim92\\appdata\\local\\programs\\python\\python312\\lib\\site-packages (from lightning-utilities>=0.8.0->torchmetrics) (4.11.0)\n",
      "Requirement already satisfied: filelock in c:\\users\\kim92\\appdata\\local\\programs\\python\\python312\\lib\\site-packages (from torch>=2.0.0->torchmetrics) (3.13.4)\n",
      "Requirement already satisfied: networkx in c:\\users\\kim92\\appdata\\local\\programs\\python\\python312\\lib\\site-packages (from torch>=2.0.0->torchmetrics) (3.4.2)\n",
      "Requirement already satisfied: jinja2 in c:\\users\\kim92\\appdata\\local\\programs\\python\\python312\\lib\\site-packages (from torch>=2.0.0->torchmetrics) (3.1.4)\n",
      "Requirement already satisfied: fsspec in c:\\users\\kim92\\appdata\\local\\programs\\python\\python312\\lib\\site-packages (from torch>=2.0.0->torchmetrics) (2024.10.0)\n",
      "Requirement already satisfied: sympy==1.13.1 in c:\\users\\kim92\\appdata\\local\\programs\\python\\python312\\lib\\site-packages (from torch>=2.0.0->torchmetrics) (1.13.1)\n",
      "Requirement already satisfied: mpmath<1.4,>=1.1.0 in c:\\users\\kim92\\appdata\\local\\programs\\python\\python312\\lib\\site-packages (from sympy==1.13.1->torch>=2.0.0->torchmetrics) (1.3.0)\n",
      "Requirement already satisfied: MarkupSafe>=2.0 in c:\\users\\kim92\\appdata\\local\\programs\\python\\python312\\lib\\site-packages (from jinja2->torch>=2.0.0->torchmetrics) (3.0.2)\n",
      "Downloading torchmetrics-1.6.0-py3-none-any.whl (926 kB)\n",
      "   ---------------------------------------- 0.0/926.4 kB ? eta -:--:--\n",
      "   - ------------------------------------- 30.7/926.4 kB 660.6 kB/s eta 0:00:02\n",
      "   -- ------------------------------------ 61.4/926.4 kB 812.7 kB/s eta 0:00:02\n",
      "   ------- -------------------------------- 163.8/926.4 kB 1.2 MB/s eta 0:00:01\n",
      "   -------------- ------------------------- 327.7/926.4 kB 1.8 MB/s eta 0:00:01\n",
      "   ---------------------- ----------------- 522.2/926.4 kB 2.3 MB/s eta 0:00:01\n",
      "   ------------------------------ --------- 716.8/926.4 kB 2.8 MB/s eta 0:00:01\n",
      "   ---------------------------------------  921.6/926.4 kB 3.1 MB/s eta 0:00:01\n",
      "   ---------------------------------------- 926.4/926.4 kB 2.9 MB/s eta 0:00:00\n",
      "Downloading lightning_utilities-0.11.9-py3-none-any.whl (28 kB)\n",
      "Installing collected packages: lightning-utilities, torchmetrics\n",
      "Successfully installed lightning-utilities-0.11.9 torchmetrics-1.6.0\n"
     ]
    },
    {
     "name": "stderr",
     "output_type": "stream",
     "text": [
      "\n",
      "[notice] A new release of pip is available: 24.0 -> 24.3.1\n",
      "[notice] To update, run: python.exe -m pip install --upgrade pip\n"
     ]
    }
   ],
   "source": [
    "!pip install torchmetrics"
   ]
  },
  {
   "cell_type": "code",
   "execution_count": 44,
   "id": "6e28d592-17ca-4a36-a906-ae209c44015c",
   "metadata": {},
   "outputs": [],
   "source": [
    "import pandas as pd\n",
    "import numpy as np\n",
    "from torch.utils.data import Dataset\n",
    "from torch.utils.data import DataLoader\n",
    "import torch\n",
    "from torchmetrics import Accuracy\n",
    "from torch import nn\n",
    "from torch.nn import functional as F\n",
    "from sklearn import preprocessing\n",
    "from enum import Enum "
   ]
  },
  {
   "cell_type": "code",
   "execution_count": 45,
   "id": "1d671a51-c939-4b9f-99e7-57618f4c94b6",
   "metadata": {},
   "outputs": [
    {
     "data": {
      "text/html": [
       "<div>\n",
       "<style scoped>\n",
       "    .dataframe tbody tr th:only-of-type {\n",
       "        vertical-align: middle;\n",
       "    }\n",
       "\n",
       "    .dataframe tbody tr th {\n",
       "        vertical-align: top;\n",
       "    }\n",
       "\n",
       "    .dataframe thead th {\n",
       "        text-align: right;\n",
       "    }\n",
       "</style>\n",
       "<table border=\"1\" class=\"dataframe\">\n",
       "  <thead>\n",
       "    <tr style=\"text-align: right;\">\n",
       "      <th></th>\n",
       "      <th>file_name</th>\n",
       "      <th>avg_energy</th>\n",
       "      <th>zero_cross_range</th>\n",
       "      <th>bandwidth</th>\n",
       "      <th>spectral_centroid</th>\n",
       "      <th>label</th>\n",
       "    </tr>\n",
       "  </thead>\n",
       "  <tbody>\n",
       "    <tr>\n",
       "      <th>0</th>\n",
       "      <td>Audio_Files/Music\\mu1.wav</td>\n",
       "      <td>0.013581</td>\n",
       "      <td>0.245165</td>\n",
       "      <td>7995.117188</td>\n",
       "      <td>3442.537003</td>\n",
       "      <td>True</td>\n",
       "    </tr>\n",
       "    <tr>\n",
       "      <th>1</th>\n",
       "      <td>Audio_Files/Music\\mu10.wav</td>\n",
       "      <td>0.006129</td>\n",
       "      <td>0.124285</td>\n",
       "      <td>7995.117188</td>\n",
       "      <td>1599.206709</td>\n",
       "      <td>True</td>\n",
       "    </tr>\n",
       "    <tr>\n",
       "      <th>2</th>\n",
       "      <td>Audio_Files/Music\\mu11.wav</td>\n",
       "      <td>0.006399</td>\n",
       "      <td>0.061674</td>\n",
       "      <td>7995.117188</td>\n",
       "      <td>1003.077498</td>\n",
       "      <td>True</td>\n",
       "    </tr>\n",
       "    <tr>\n",
       "      <th>3</th>\n",
       "      <td>Audio_Files/Music\\mu12.wav</td>\n",
       "      <td>0.010394</td>\n",
       "      <td>0.235691</td>\n",
       "      <td>7995.117188</td>\n",
       "      <td>2206.099911</td>\n",
       "      <td>True</td>\n",
       "    </tr>\n",
       "    <tr>\n",
       "      <th>4</th>\n",
       "      <td>Audio_Files/Music\\mu13.wav</td>\n",
       "      <td>0.016870</td>\n",
       "      <td>0.068174</td>\n",
       "      <td>7995.117188</td>\n",
       "      <td>1352.087533</td>\n",
       "      <td>True</td>\n",
       "    </tr>\n",
       "  </tbody>\n",
       "</table>\n",
       "</div>"
      ],
      "text/plain": [
       "                    file_name  avg_energy  zero_cross_range    bandwidth  \\\n",
       "0   Audio_Files/Music\\mu1.wav    0.013581          0.245165  7995.117188   \n",
       "1  Audio_Files/Music\\mu10.wav    0.006129          0.124285  7995.117188   \n",
       "2  Audio_Files/Music\\mu11.wav    0.006399          0.061674  7995.117188   \n",
       "3  Audio_Files/Music\\mu12.wav    0.010394          0.235691  7995.117188   \n",
       "4  Audio_Files/Music\\mu13.wav    0.016870          0.068174  7995.117188   \n",
       "\n",
       "   spectral_centroid  label  \n",
       "0        3442.537003   True  \n",
       "1        1599.206709   True  \n",
       "2        1003.077498   True  \n",
       "3        2206.099911   True  \n",
       "4        1352.087533   True  "
      ]
     },
     "execution_count": 45,
     "metadata": {},
     "output_type": "execute_result"
    }
   ],
   "source": [
    "df = pd.read_csv(\"A_CProj/College/CSS484Assign4/pytorchML/export.csv\")\n",
    "df.head()"
   ]
  },
  {
   "cell_type": "code",
   "execution_count": 46,
   "id": "066910a8-46c6-4833-873d-362501c7d079",
   "metadata": {},
   "outputs": [],
   "source": [
    "class CustomDataset(Dataset):\n",
    "    def __init__(self):\n",
    "        self.df=pd.read_csv(\"A_CProj/College/CSS484Assign4/pytorchML/export.csv\")\n",
    "        # extract labels\n",
    "        self.df_labels=df[['label']]\n",
    "        # drop non numeric columns to make tutorial simpler, in real life do categorical encoding\n",
    "        self.df=df.drop(columns=['label','file_name'])\n",
    "        # conver to torch dtypes\n",
    "        self.dataset=torch.tensor(self.df.to_numpy()).float()\n",
    "\n",
    "        self.labels=torch.tensor(self.df_labels.to_numpy().reshape(-1)).long()\n",
    "    \n",
    "    # This returns the total amount of samples in your Dataset\n",
    "    def __len__(self):\n",
    "        return len(self.dataset)\n",
    "    \n",
    "    # This returns given an index the i-th sample and label\n",
    "    def __getitem__(self, idx):\n",
    "        return self.dataset[idx],self.labels[idx]"
   ]
  },
  {
   "cell_type": "code",
   "execution_count": 47,
   "id": "387c5c4b-68d6-4f2b-807a-2a6b49665b3f",
   "metadata": {},
   "outputs": [
    {
     "data": {
      "text/plain": [
       "<__main__.CustomDataset at 0x1fc44090a40>"
      ]
     },
     "execution_count": 47,
     "metadata": {},
     "output_type": "execute_result"
    }
   ],
   "source": [
    "ds = CustomDataset()\n",
    "ds"
   ]
  },
  {
   "cell_type": "code",
   "execution_count": 48,
   "id": "c5f5f9b5-3ebe-49c2-8535-4dc37ca8236c",
   "metadata": {},
   "outputs": [
    {
     "name": "stdout",
     "output_type": "stream",
     "text": [
      "tensor([[3.9441e-03, 1.3558e-01, 7.9951e+03, 2.3474e+03],\n",
      "        [3.4100e-03, 1.1585e-01, 7.9980e+03, 2.9477e+03],\n",
      "        [1.5836e-02, 7.9609e-02, 7.9980e+03, 8.8044e+02],\n",
      "        [1.3581e-02, 2.4516e-01, 7.9951e+03, 3.4425e+03],\n",
      "        [3.6661e-02, 3.9939e-02, 7.9951e+03, 1.5273e+03],\n",
      "        [5.5412e-04, 1.3512e-01, 7.9980e+03, 2.5808e+03],\n",
      "        [5.0236e-04, 1.3142e-01, 7.9980e+03, 1.6306e+03],\n",
      "        [7.1045e-03, 1.7277e-01, 7.9980e+03, 1.9264e+03],\n",
      "        [1.5031e-01, 1.0316e-01, 7.9980e+03, 7.8838e+02],\n",
      "        [7.6719e-02, 9.8720e-02, 7.9951e+03, 2.4326e+03],\n",
      "        [3.1784e-04, 5.7896e-02, 7.9980e+03, 9.0200e+02],\n",
      "        [4.5429e-04, 1.2189e-01, 7.9980e+03, 1.6863e+03],\n",
      "        [8.6666e-04, 2.0642e-01, 7.9951e+03, 2.7387e+03],\n",
      "        [7.8526e-03, 9.2894e-02, 7.9951e+03, 1.7663e+03],\n",
      "        [2.2246e-03, 9.2284e-02, 7.9951e+03, 2.0077e+03],\n",
      "        [6.3988e-03, 6.1674e-02, 7.9951e+03, 1.0031e+03],\n",
      "        [1.6870e-02, 6.8174e-02, 7.9951e+03, 1.3521e+03],\n",
      "        [3.5685e-02, 2.0396e-01, 7.9980e+03, 3.1522e+03],\n",
      "        [1.7265e-02, 1.3803e-01, 7.9951e+03, 2.1529e+03],\n",
      "        [6.7235e-04, 1.2181e-01, 7.9951e+03, 2.5897e+03],\n",
      "        [8.0424e-04, 1.0088e-01, 7.9951e+03, 2.2238e+03],\n",
      "        [1.8114e-03, 1.6899e-01, 7.9951e+03, 2.7229e+03],\n",
      "        [1.1008e-02, 5.6861e-02, 7.9951e+03, 1.7161e+03],\n",
      "        [2.0079e-03, 1.1099e-01, 7.9951e+03, 1.5903e+03],\n",
      "        [9.6801e-03, 9.6550e-02, 7.9951e+03, 1.8961e+03],\n",
      "        [3.5986e-03, 6.0534e-02, 7.9980e+03, 1.4099e+03],\n",
      "        [8.3073e-03, 8.1189e-02, 7.9980e+03, 1.3965e+03],\n",
      "        [6.1884e-02, 2.0421e-01, 7.9980e+03, 2.8246e+03],\n",
      "        [6.9399e-03, 1.1421e-01, 7.9951e+03, 1.7861e+03],\n",
      "        [7.1943e-04, 1.8335e-01, 7.9980e+03, 2.6886e+03],\n",
      "        [5.2816e-04, 1.5538e-01, 7.9980e+03, 2.6801e+03],\n",
      "        [6.6074e-03, 1.2942e-01, 7.9980e+03, 1.2638e+03]]) tensor([1, 0, 0, 1, 1, 0, 0, 0, 0, 1, 0, 0, 1, 1, 1, 1, 1, 0, 1, 1, 1, 1, 1, 1,\n",
      "        1, 0, 0, 0, 1, 0, 0, 0])\n",
      "torch.Size([32, 4]) torch.Size([32])\n",
      "torch.Size([32, 4]) torch.Size([32])\n",
      "torch.Size([32, 4]) torch.Size([32])\n"
     ]
    }
   ],
   "source": [
    "dl=DataLoader(ds,batch_size=32, num_workers=0, shuffle=True,drop_last=True)\n",
    "counter=0\n",
    "for epoch in [1,2,3]:\n",
    "    for batch,label in dl:\n",
    "        if counter==0:\n",
    "            print(batch,label)\n",
    "            counter+=1\n",
    "        print(batch.size(),label.size())"
   ]
  },
  {
   "cell_type": "code",
   "execution_count": 51,
   "id": "0ecc608c-6ba6-44a7-859e-d038b478ebb9",
   "metadata": {},
   "outputs": [],
   "source": [
    "class SimpleModel(torch.nn.Module):\n",
    "    def __init__(self):\n",
    "        super(SimpleModel, self).__init__()\n",
    "        self.model=nn.Sequential(\n",
    "            nn.Flatten(),\n",
    "            nn.Linear(4, 128),\n",
    "            nn.ReLU(),\n",
    "            nn.Dropout(0.1),\n",
    "            nn.Linear(128, 32),\n",
    "            nn.ReLU(),\n",
    "            nn.Dropout(0.1),\n",
    "            nn.Linear(32, 6),\n",
    "        )\n",
    "\n",
    "    def forward(self, x):\n",
    "        z = self.model(x)\n",
    "        return F.log_softmax(z, dim=1)\n",
    "\n",
    "# Create model\n",
    "model=SimpleModel().to('cpu')\n",
    "# Create dataloader with sensible parameters\n",
    "dl=DataLoader(ds,batch_size=4, num_workers=0, shuffle=True,drop_last=True)\n",
    "# optimizer creation for training\n",
    "optimizer=torch.optim.Adam(model.parameters(),lr=0.0001)\n",
    "model.train()\n",
    "# training loop\n",
    "for epoch in range(20):\n",
    "    for batch, label in dl:\n",
    "        # for each batch do a forward pass\n",
    "        optimizer.zero_grad()\n",
    "        oupt = model(batch)\n",
    "        # calculate the loss\n",
    "        loss_obj = F.nll_loss(oupt, label)\n",
    "        # updates\n",
    "        loss_obj.backward()\n",
    "        optimizer.step()\n",
    "#Do evaluation and the rest\n",
    "model.eval()\n",
    "# We simply evaluate on the training set, this is bad\n",
    "# But also the results will be bad, we will make it better in the Full Example version\n",
    "acc=Accuracy\n",
    "# evaluation simple, quick to make tutorial fast\n",
    "dl=DataLoader(ds,batch_size=240, num_workers=0, shuffle=False,drop_last=True)\n",
    "for batch, label in dl:\n",
    "    print(\"Result is bad, we will see why in a minute!\")\n",
    "    print(acc(torch.argmax(model(batch),dim=1),label))\n",
    "    break"
   ]
  },
  {
   "cell_type": "code",
   "execution_count": null,
   "id": "18eb5405-5b8c-431b-ba56-fbd377cefcd9",
   "metadata": {},
   "outputs": [],
   "source": []
  },
  {
   "cell_type": "code",
   "execution_count": null,
   "id": "fb2f1de2-62df-4e61-8b8a-63563c0078cf",
   "metadata": {},
   "outputs": [],
   "source": []
  }
 ],
 "metadata": {
  "kernelspec": {
   "display_name": "Python 3 (ipykernel)",
   "language": "python",
   "name": "python3"
  },
  "language_info": {
   "codemirror_mode": {
    "name": "ipython",
    "version": 3
   },
   "file_extension": ".py",
   "mimetype": "text/x-python",
   "name": "python",
   "nbconvert_exporter": "python",
   "pygments_lexer": "ipython3",
   "version": "3.12.2"
  }
 },
 "nbformat": 4,
 "nbformat_minor": 5
}
